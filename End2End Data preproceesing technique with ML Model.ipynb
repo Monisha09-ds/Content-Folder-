{
 "cells": [
  {
   "cell_type": "markdown",
   "id": "c807e678",
   "metadata": {},
   "source": [
    "Data Cleaning is the process of fixing or removing incorrect,corrupted ,incorrectly formatted ,duplicate or incomplete data within a dataset"
   ]
  },
  {
   "cell_type": "code",
   "execution_count": 66,
   "id": "8cba5346",
   "metadata": {},
   "outputs": [],
   "source": [
    "import numpy as np\n",
    "import pandas as pd\n",
    "import seaborn as sns\n",
    "import matplotlib.pyplot as plt\n",
    "%matplotlib inline"
   ]
  },
  {
   "cell_type": "code",
   "execution_count": 67,
   "id": "9f0e22f9",
   "metadata": {},
   "outputs": [],
   "source": [
    "car = pd.read_csv('quikr_car.csv')"
   ]
  },
  {
   "cell_type": "code",
   "execution_count": 68,
   "id": "4000ab85",
   "metadata": {},
   "outputs": [
    {
     "data": {
      "text/html": [
       "<div>\n",
       "<style scoped>\n",
       "    .dataframe tbody tr th:only-of-type {\n",
       "        vertical-align: middle;\n",
       "    }\n",
       "\n",
       "    .dataframe tbody tr th {\n",
       "        vertical-align: top;\n",
       "    }\n",
       "\n",
       "    .dataframe thead th {\n",
       "        text-align: right;\n",
       "    }\n",
       "</style>\n",
       "<table border=\"1\" class=\"dataframe\">\n",
       "  <thead>\n",
       "    <tr style=\"text-align: right;\">\n",
       "      <th></th>\n",
       "      <th>name</th>\n",
       "      <th>company</th>\n",
       "      <th>year</th>\n",
       "      <th>Price</th>\n",
       "      <th>kms_driven</th>\n",
       "      <th>fuel_type</th>\n",
       "    </tr>\n",
       "  </thead>\n",
       "  <tbody>\n",
       "    <tr>\n",
       "      <th>0</th>\n",
       "      <td>Hyundai Santro Xing XO eRLX Euro III</td>\n",
       "      <td>Hyundai</td>\n",
       "      <td>2007</td>\n",
       "      <td>80,000</td>\n",
       "      <td>45,000 kms</td>\n",
       "      <td>Petrol</td>\n",
       "    </tr>\n",
       "    <tr>\n",
       "      <th>1</th>\n",
       "      <td>Mahindra Jeep CL550 MDI</td>\n",
       "      <td>Mahindra</td>\n",
       "      <td>2006</td>\n",
       "      <td>4,25,000</td>\n",
       "      <td>40 kms</td>\n",
       "      <td>Diesel</td>\n",
       "    </tr>\n",
       "    <tr>\n",
       "      <th>2</th>\n",
       "      <td>Maruti Suzuki Alto 800 Vxi</td>\n",
       "      <td>Maruti</td>\n",
       "      <td>2018</td>\n",
       "      <td>Ask For Price</td>\n",
       "      <td>22,000 kms</td>\n",
       "      <td>Petrol</td>\n",
       "    </tr>\n",
       "    <tr>\n",
       "      <th>3</th>\n",
       "      <td>Hyundai Grand i10 Magna 1.2 Kappa VTVT</td>\n",
       "      <td>Hyundai</td>\n",
       "      <td>2014</td>\n",
       "      <td>3,25,000</td>\n",
       "      <td>28,000 kms</td>\n",
       "      <td>Petrol</td>\n",
       "    </tr>\n",
       "    <tr>\n",
       "      <th>4</th>\n",
       "      <td>Ford EcoSport Titanium 1.5L TDCi</td>\n",
       "      <td>Ford</td>\n",
       "      <td>2014</td>\n",
       "      <td>5,75,000</td>\n",
       "      <td>36,000 kms</td>\n",
       "      <td>Diesel</td>\n",
       "    </tr>\n",
       "  </tbody>\n",
       "</table>\n",
       "</div>"
      ],
      "text/plain": [
       "                                     name   company  year          Price  \\\n",
       "0    Hyundai Santro Xing XO eRLX Euro III   Hyundai  2007         80,000   \n",
       "1                 Mahindra Jeep CL550 MDI  Mahindra  2006       4,25,000   \n",
       "2              Maruti Suzuki Alto 800 Vxi    Maruti  2018  Ask For Price   \n",
       "3  Hyundai Grand i10 Magna 1.2 Kappa VTVT   Hyundai  2014       3,25,000   \n",
       "4        Ford EcoSport Titanium 1.5L TDCi      Ford  2014       5,75,000   \n",
       "\n",
       "   kms_driven fuel_type  \n",
       "0  45,000 kms    Petrol  \n",
       "1      40 kms    Diesel  \n",
       "2  22,000 kms    Petrol  \n",
       "3  28,000 kms    Petrol  \n",
       "4  36,000 kms    Diesel  "
      ]
     },
     "execution_count": 68,
     "metadata": {},
     "output_type": "execute_result"
    }
   ],
   "source": [
    "car.head()"
   ]
  },
  {
   "cell_type": "code",
   "execution_count": 69,
   "id": "c6cc2c0f",
   "metadata": {},
   "outputs": [
    {
     "data": {
      "text/plain": [
       "Ask For Price    35\n",
       "2,50,000         17\n",
       "3,50,000         14\n",
       "1,80,000         13\n",
       "1,30,000         12\n",
       "                 ..\n",
       "5,19,000          1\n",
       "1,78,000          1\n",
       "5,48,900          1\n",
       "3,51,000          1\n",
       "21,90,000         1\n",
       "Name: Price, Length: 274, dtype: int64"
      ]
     },
     "execution_count": 69,
     "metadata": {},
     "output_type": "execute_result"
    }
   ],
   "source": [
    "car['Price'].value_counts()"
   ]
  },
  {
   "cell_type": "code",
   "execution_count": 70,
   "id": "39724a3a",
   "metadata": {},
   "outputs": [
    {
     "data": {
      "text/plain": [
       "(892, 6)"
      ]
     },
     "execution_count": 70,
     "metadata": {},
     "output_type": "execute_result"
    }
   ],
   "source": [
    "car.shape"
   ]
  },
  {
   "cell_type": "code",
   "execution_count": 71,
   "id": "b96aa189",
   "metadata": {},
   "outputs": [
    {
     "name": "stdout",
     "output_type": "stream",
     "text": [
      "<class 'pandas.core.frame.DataFrame'>\n",
      "RangeIndex: 892 entries, 0 to 891\n",
      "Data columns (total 6 columns):\n",
      " #   Column      Non-Null Count  Dtype \n",
      "---  ------      --------------  ----- \n",
      " 0   name        892 non-null    object\n",
      " 1   company     892 non-null    object\n",
      " 2   year        892 non-null    object\n",
      " 3   Price       892 non-null    object\n",
      " 4   kms_driven  840 non-null    object\n",
      " 5   fuel_type   837 non-null    object\n",
      "dtypes: object(6)\n",
      "memory usage: 41.9+ KB\n"
     ]
    }
   ],
   "source": [
    "car.info()"
   ]
  },
  {
   "cell_type": "code",
   "execution_count": 72,
   "id": "205cb674",
   "metadata": {},
   "outputs": [
    {
     "data": {
      "text/plain": [
       "name           0\n",
       "company        0\n",
       "year           0\n",
       "Price          0\n",
       "kms_driven    52\n",
       "fuel_type     55\n",
       "dtype: int64"
      ]
     },
     "execution_count": 72,
     "metadata": {},
     "output_type": "execute_result"
    }
   ],
   "source": [
    "car.isnull().sum()"
   ]
  },
  {
   "cell_type": "markdown",
   "id": "db7abbc1",
   "metadata": {},
   "source": [
    "# Handling Missing Values:"
   ]
  },
  {
   "cell_type": "code",
   "execution_count": 73,
   "id": "a1571d99",
   "metadata": {},
   "outputs": [
    {
     "data": {
      "text/plain": [
       "name          0.000000\n",
       "company       0.000000\n",
       "year          0.000000\n",
       "Price         0.000000\n",
       "kms_driven    5.829596\n",
       "fuel_type     6.165919\n",
       "dtype: float64"
      ]
     },
     "execution_count": 73,
     "metadata": {},
     "output_type": "execute_result"
    }
   ],
   "source": [
    "((car.isnull().sum())/car.shape[0])*100"
   ]
  },
  {
   "cell_type": "code",
   "execution_count": 74,
   "id": "b1e01cb4",
   "metadata": {},
   "outputs": [],
   "source": [
    "car.dropna(inplace=True)"
   ]
  },
  {
   "cell_type": "markdown",
   "id": "d86a0c6f",
   "metadata": {},
   "source": [
    "# Extracting new feature from existing feature\n"
   ]
  },
  {
   "cell_type": "code",
   "execution_count": 75,
   "id": "60020150",
   "metadata": {},
   "outputs": [
    {
     "data": {
      "text/plain": [
       "'Hyundai Santro Xing XO eRLX Euro III'"
      ]
     },
     "execution_count": 75,
     "metadata": {},
     "output_type": "execute_result"
    }
   ],
   "source": [
    "x = car['name'][0]\n",
    "x"
   ]
  },
  {
   "cell_type": "code",
   "execution_count": null,
   "id": "54f0e6e3",
   "metadata": {},
   "outputs": [],
   "source": []
  },
  {
   "cell_type": "code",
   "execution_count": 76,
   "id": "ff3d4e0f",
   "metadata": {},
   "outputs": [
    {
     "data": {
      "text/plain": [
       "7"
      ]
     },
     "execution_count": 76,
     "metadata": {},
     "output_type": "execute_result"
    }
   ],
   "source": [
    "x.index(\" \")"
   ]
  },
  {
   "cell_type": "code",
   "execution_count": 77,
   "id": "ddc7ef57",
   "metadata": {},
   "outputs": [
    {
     "data": {
      "text/plain": [
       "'Hyundai'"
      ]
     },
     "execution_count": 77,
     "metadata": {},
     "output_type": "execute_result"
    }
   ],
   "source": [
    "x[:x.index(\" \")]"
   ]
  },
  {
   "cell_type": "code",
   "execution_count": 78,
   "id": "d4b86047",
   "metadata": {},
   "outputs": [
    {
     "data": {
      "text/plain": [
       "8"
      ]
     },
     "execution_count": 78,
     "metadata": {},
     "output_type": "execute_result"
    }
   ],
   "source": [
    "x.index(\" \")+1"
   ]
  },
  {
   "cell_type": "code",
   "execution_count": 79,
   "id": "bb32fd7f",
   "metadata": {},
   "outputs": [
    {
     "data": {
      "text/plain": [
       "'Hyundai '"
      ]
     },
     "execution_count": 79,
     "metadata": {},
     "output_type": "execute_result"
    }
   ],
   "source": [
    "x[:x.index(\" \")+1]"
   ]
  },
  {
   "cell_type": "code",
   "execution_count": 80,
   "id": "ae5862a9",
   "metadata": {},
   "outputs": [],
   "source": [
    "def comp_name(x):\n",
    "    return x[:x.index(\" \")]"
   ]
  },
  {
   "cell_type": "code",
   "execution_count": 81,
   "id": "cae7cb37",
   "metadata": {},
   "outputs": [],
   "source": [
    "def car_name(x):\n",
    "    return x[x.index(\" \")+1:]"
   ]
  },
  {
   "cell_type": "code",
   "execution_count": 82,
   "id": "21d06e1c",
   "metadata": {},
   "outputs": [],
   "source": [
    "car['car_name'] = car[\"name\"].apply(car_name)"
   ]
  },
  {
   "cell_type": "code",
   "execution_count": 83,
   "id": "cab4c269",
   "metadata": {},
   "outputs": [
    {
     "data": {
      "text/html": [
       "<div>\n",
       "<style scoped>\n",
       "    .dataframe tbody tr th:only-of-type {\n",
       "        vertical-align: middle;\n",
       "    }\n",
       "\n",
       "    .dataframe tbody tr th {\n",
       "        vertical-align: top;\n",
       "    }\n",
       "\n",
       "    .dataframe thead th {\n",
       "        text-align: right;\n",
       "    }\n",
       "</style>\n",
       "<table border=\"1\" class=\"dataframe\">\n",
       "  <thead>\n",
       "    <tr style=\"text-align: right;\">\n",
       "      <th></th>\n",
       "      <th>name</th>\n",
       "      <th>company</th>\n",
       "      <th>year</th>\n",
       "      <th>Price</th>\n",
       "      <th>kms_driven</th>\n",
       "      <th>fuel_type</th>\n",
       "      <th>car_name</th>\n",
       "    </tr>\n",
       "  </thead>\n",
       "  <tbody>\n",
       "    <tr>\n",
       "      <th>0</th>\n",
       "      <td>Hyundai Santro Xing XO eRLX Euro III</td>\n",
       "      <td>Hyundai</td>\n",
       "      <td>2007</td>\n",
       "      <td>80,000</td>\n",
       "      <td>45,000 kms</td>\n",
       "      <td>Petrol</td>\n",
       "      <td>Santro Xing XO eRLX Euro III</td>\n",
       "    </tr>\n",
       "    <tr>\n",
       "      <th>1</th>\n",
       "      <td>Mahindra Jeep CL550 MDI</td>\n",
       "      <td>Mahindra</td>\n",
       "      <td>2006</td>\n",
       "      <td>4,25,000</td>\n",
       "      <td>40 kms</td>\n",
       "      <td>Diesel</td>\n",
       "      <td>Jeep CL550 MDI</td>\n",
       "    </tr>\n",
       "    <tr>\n",
       "      <th>2</th>\n",
       "      <td>Maruti Suzuki Alto 800 Vxi</td>\n",
       "      <td>Maruti</td>\n",
       "      <td>2018</td>\n",
       "      <td>Ask For Price</td>\n",
       "      <td>22,000 kms</td>\n",
       "      <td>Petrol</td>\n",
       "      <td>Suzuki Alto 800 Vxi</td>\n",
       "    </tr>\n",
       "    <tr>\n",
       "      <th>3</th>\n",
       "      <td>Hyundai Grand i10 Magna 1.2 Kappa VTVT</td>\n",
       "      <td>Hyundai</td>\n",
       "      <td>2014</td>\n",
       "      <td>3,25,000</td>\n",
       "      <td>28,000 kms</td>\n",
       "      <td>Petrol</td>\n",
       "      <td>Grand i10 Magna 1.2 Kappa VTVT</td>\n",
       "    </tr>\n",
       "    <tr>\n",
       "      <th>4</th>\n",
       "      <td>Ford EcoSport Titanium 1.5L TDCi</td>\n",
       "      <td>Ford</td>\n",
       "      <td>2014</td>\n",
       "      <td>5,75,000</td>\n",
       "      <td>36,000 kms</td>\n",
       "      <td>Diesel</td>\n",
       "      <td>EcoSport Titanium 1.5L TDCi</td>\n",
       "    </tr>\n",
       "  </tbody>\n",
       "</table>\n",
       "</div>"
      ],
      "text/plain": [
       "                                     name   company  year          Price  \\\n",
       "0    Hyundai Santro Xing XO eRLX Euro III   Hyundai  2007         80,000   \n",
       "1                 Mahindra Jeep CL550 MDI  Mahindra  2006       4,25,000   \n",
       "2              Maruti Suzuki Alto 800 Vxi    Maruti  2018  Ask For Price   \n",
       "3  Hyundai Grand i10 Magna 1.2 Kappa VTVT   Hyundai  2014       3,25,000   \n",
       "4        Ford EcoSport Titanium 1.5L TDCi      Ford  2014       5,75,000   \n",
       "\n",
       "   kms_driven fuel_type                        car_name  \n",
       "0  45,000 kms    Petrol    Santro Xing XO eRLX Euro III  \n",
       "1      40 kms    Diesel                  Jeep CL550 MDI  \n",
       "2  22,000 kms    Petrol             Suzuki Alto 800 Vxi  \n",
       "3  28,000 kms    Petrol  Grand i10 Magna 1.2 Kappa VTVT  \n",
       "4  36,000 kms    Diesel     EcoSport Titanium 1.5L TDCi  "
      ]
     },
     "execution_count": 83,
     "metadata": {},
     "output_type": "execute_result"
    }
   ],
   "source": [
    "car.head()"
   ]
  },
  {
   "cell_type": "code",
   "execution_count": 84,
   "id": "b505f979",
   "metadata": {},
   "outputs": [],
   "source": [
    "#Data Bining: "
   ]
  },
  {
   "cell_type": "code",
   "execution_count": 85,
   "id": "279abb85",
   "metadata": {},
   "outputs": [
    {
     "data": {
      "text/plain": [
       "count               837\n",
       "unique              273\n",
       "top       Ask For Price\n",
       "freq                 21\n",
       "Name: Price, dtype: object"
      ]
     },
     "execution_count": 85,
     "metadata": {},
     "output_type": "execute_result"
    }
   ],
   "source": [
    "car.Price.describe()"
   ]
  },
  {
   "cell_type": "code",
   "execution_count": 86,
   "id": "305e9751",
   "metadata": {},
   "outputs": [],
   "source": [
    "car['Price']=car['Price'].str.replace(\",\",\"\")"
   ]
  },
  {
   "cell_type": "code",
   "execution_count": 87,
   "id": "a8efccfb",
   "metadata": {},
   "outputs": [
    {
     "data": {
      "text/plain": [
       "Ask For Price    21\n",
       "250000           16\n",
       "350000           12\n",
       "400000           11\n",
       "130000           11\n",
       "                 ..\n",
       "1490000           1\n",
       "470000            1\n",
       "940000            1\n",
       "59000             1\n",
       "675000            1\n",
       "Name: Price, Length: 273, dtype: int64"
      ]
     },
     "execution_count": 87,
     "metadata": {},
     "output_type": "execute_result"
    }
   ],
   "source": [
    "car[\"Price\"].value_counts()"
   ]
  },
  {
   "cell_type": "code",
   "execution_count": 88,
   "id": "713229e9",
   "metadata": {},
   "outputs": [
    {
     "data": {
      "text/plain": [
       "Index(['name', 'company', 'year', 'Price', 'kms_driven', 'fuel_type',\n",
       "       'car_name'],\n",
       "      dtype='object')"
      ]
     },
     "execution_count": 88,
     "metadata": {},
     "output_type": "execute_result"
    }
   ],
   "source": [
    "car.columns"
   ]
  },
  {
   "cell_type": "code",
   "execution_count": 89,
   "id": "f347b9f1",
   "metadata": {},
   "outputs": [
    {
     "data": {
      "text/html": [
       "<div>\n",
       "<style scoped>\n",
       "    .dataframe tbody tr th:only-of-type {\n",
       "        vertical-align: middle;\n",
       "    }\n",
       "\n",
       "    .dataframe tbody tr th {\n",
       "        vertical-align: top;\n",
       "    }\n",
       "\n",
       "    .dataframe thead th {\n",
       "        text-align: right;\n",
       "    }\n",
       "</style>\n",
       "<table border=\"1\" class=\"dataframe\">\n",
       "  <thead>\n",
       "    <tr style=\"text-align: right;\">\n",
       "      <th></th>\n",
       "      <th>name</th>\n",
       "      <th>company</th>\n",
       "      <th>year</th>\n",
       "      <th>Price</th>\n",
       "      <th>kms_driven</th>\n",
       "      <th>fuel_type</th>\n",
       "      <th>car_name</th>\n",
       "    </tr>\n",
       "  </thead>\n",
       "  <tbody>\n",
       "    <tr>\n",
       "      <th>152</th>\n",
       "      <td>Renault Duster</td>\n",
       "      <td>Renault</td>\n",
       "      <td>2013</td>\n",
       "      <td>399999</td>\n",
       "      <td>41,000 kms</td>\n",
       "      <td>Diesel</td>\n",
       "      <td>Duster</td>\n",
       "    </tr>\n",
       "    <tr>\n",
       "      <th>299</th>\n",
       "      <td>Tata Indica V2 Xeta e GLE</td>\n",
       "      <td>Tata</td>\n",
       "      <td>2008</td>\n",
       "      <td>150000</td>\n",
       "      <td>11,000 kms</td>\n",
       "      <td>Petrol</td>\n",
       "      <td>Indica V2 Xeta e GLE</td>\n",
       "    </tr>\n",
       "    <tr>\n",
       "      <th>570</th>\n",
       "      <td>Hyundai i10</td>\n",
       "      <td>Hyundai</td>\n",
       "      <td>2009</td>\n",
       "      <td>215000</td>\n",
       "      <td>27,000 kms</td>\n",
       "      <td>Petrol</td>\n",
       "      <td>i10</td>\n",
       "    </tr>\n",
       "    <tr>\n",
       "      <th>128</th>\n",
       "      <td>Maruti Suzuki Alto 800</td>\n",
       "      <td>Maruti</td>\n",
       "      <td>2018</td>\n",
       "      <td>200000</td>\n",
       "      <td>7,500 kms</td>\n",
       "      <td>Petrol</td>\n",
       "      <td>Suzuki Alto 800</td>\n",
       "    </tr>\n",
       "  </tbody>\n",
       "</table>\n",
       "</div>"
      ],
      "text/plain": [
       "                          name  company  year   Price  kms_driven fuel_type  \\\n",
       "152             Renault Duster  Renault  2013  399999  41,000 kms    Diesel   \n",
       "299  Tata Indica V2 Xeta e GLE     Tata  2008  150000  11,000 kms    Petrol   \n",
       "570                Hyundai i10  Hyundai  2009  215000  27,000 kms    Petrol   \n",
       "128     Maruti Suzuki Alto 800   Maruti  2018  200000   7,500 kms    Petrol   \n",
       "\n",
       "                 car_name  \n",
       "152                Duster  \n",
       "299  Indica V2 Xeta e GLE  \n",
       "570                   i10  \n",
       "128       Suzuki Alto 800  "
      ]
     },
     "execution_count": 89,
     "metadata": {},
     "output_type": "execute_result"
    }
   ],
   "source": [
    "car.sample(4)"
   ]
  },
  {
   "cell_type": "code",
   "execution_count": 90,
   "id": "cc9e6e1f",
   "metadata": {},
   "outputs": [],
   "source": [
    "#Data preprocessing\n",
    "car['kms_driven']= car['kms_driven'].str.replace(\",\",\"\")\n",
    "car['kms_driven']= car['kms_driven'].str.replace(\"kms\",\"\")"
   ]
  },
  {
   "cell_type": "code",
   "execution_count": 91,
   "id": "1dc4bd05",
   "metadata": {},
   "outputs": [],
   "source": [
    "car[\"year\"]=car[\"year\"].astype(\"int\")\n",
    "car[\"kms_driven\"]=car[\"kms_driven\"].astype(\"float64\")"
   ]
  },
  {
   "cell_type": "code",
   "execution_count": 92,
   "id": "24611574",
   "metadata": {},
   "outputs": [],
   "source": [
    "car['Price'] = car['Price'].replace('Ask For Price', '0')\n",
    "\n"
   ]
  },
  {
   "cell_type": "code",
   "execution_count": 93,
   "id": "408a34bd",
   "metadata": {},
   "outputs": [
    {
     "data": {
      "text/plain": [
       "0          21\n",
       "250000     16\n",
       "350000     12\n",
       "400000     11\n",
       "130000     11\n",
       "           ..\n",
       "1600000     1\n",
       "470000      1\n",
       "940000      1\n",
       "59000       1\n",
       "675000      1\n",
       "Name: Price, Length: 273, dtype: int64"
      ]
     },
     "execution_count": 93,
     "metadata": {},
     "output_type": "execute_result"
    }
   ],
   "source": [
    "car['Price'].value_counts()"
   ]
  },
  {
   "cell_type": "code",
   "execution_count": 94,
   "id": "8deab00a",
   "metadata": {},
   "outputs": [],
   "source": [
    "car[\"Price\"]=car[\"Price\"].astype(\"float64\")"
   ]
  },
  {
   "cell_type": "code",
   "execution_count": 95,
   "id": "1423891d",
   "metadata": {},
   "outputs": [
    {
     "name": "stderr",
     "output_type": "stream",
     "text": [
      "C:\\ProgramData\\Anaconda3\\lib\\site-packages\\seaborn\\_decorators.py:36: FutureWarning: Pass the following variable as a keyword arg: x. From version 0.12, the only valid positional argument will be `data`, and passing other arguments without an explicit keyword will result in an error or misinterpretation.\n",
      "  warnings.warn(\n"
     ]
    },
    {
     "data": {
      "text/plain": [
       "<AxesSubplot:xlabel='Price'>"
      ]
     },
     "execution_count": 95,
     "metadata": {},
     "output_type": "execute_result"
    },
    {
     "data": {
      "image/png": "[encoded data removed]",
      "text/plain": [
       "<Figure size 432x288 with 1 Axes>"
      ]
     },
     "metadata": {
      "needs_background": "light"
     },
     "output_type": "display_data"
    }
   ],
   "source": [
    "sns.boxplot('Price',data=car)"
   ]
  },
  {
   "cell_type": "code",
   "execution_count": 96,
   "id": "59fea6d7",
   "metadata": {},
   "outputs": [],
   "source": [
    "median = car.Price.median()\n",
    "car['Price'] = car['Price'].replace( '-1',median)"
   ]
  },
  {
   "cell_type": "code",
   "execution_count": 97,
   "id": "7534dbc0",
   "metadata": {},
   "outputs": [
    {
     "name": "stdout",
     "output_type": "stream",
     "text": [
      "<class 'pandas.core.frame.DataFrame'>\n",
      "Int64Index: 837 entries, 0 to 889\n",
      "Data columns (total 7 columns):\n",
      " #   Column      Non-Null Count  Dtype  \n",
      "---  ------      --------------  -----  \n",
      " 0   name        837 non-null    object \n",
      " 1   company     837 non-null    object \n",
      " 2   year        837 non-null    int32  \n",
      " 3   Price       837 non-null    float64\n",
      " 4   kms_driven  837 non-null    float64\n",
      " 5   fuel_type   837 non-null    object \n",
      " 6   car_name    837 non-null    object \n",
      "dtypes: float64(2), int32(1), object(4)\n",
      "memory usage: 81.3+ KB\n"
     ]
    }
   ],
   "source": [
    "car.info()"
   ]
  },
  {
   "cell_type": "code",
   "execution_count": 98,
   "id": "0d99f25e",
   "metadata": {},
   "outputs": [],
   "source": [
    "def correlation(dataset,threshold):\n",
    "    col_corr = set()\n",
    "    corr_matrix = dataset.corr()\n",
    "    for i in range (len(corr_matrix.columns)):\n",
    "        for j in range(i):\n",
    "            if (abs(corr_matrix.iloc[i,j]) > threshold):\n",
    "                col_name = corr_matrix.columns[i]\n",
    "                col_corr.add(col_name)\n",
    "    return col_corr"
   ]
  },
  {
   "cell_type": "code",
   "execution_count": 99,
   "id": "e8d803b9",
   "metadata": {},
   "outputs": [],
   "source": [
    "corr_features = correlation(car,0.7)"
   ]
  },
  {
   "cell_type": "code",
   "execution_count": 100,
   "id": "42659952",
   "metadata": {},
   "outputs": [
    {
     "data": {
      "text/plain": [
       "set()"
      ]
     },
     "execution_count": 100,
     "metadata": {},
     "output_type": "execute_result"
    }
   ],
   "source": [
    "corr_features"
   ]
  },
  {
   "cell_type": "code",
   "execution_count": 101,
   "id": "296223db",
   "metadata": {},
   "outputs": [
    {
     "name": "stdout",
     "output_type": "stream",
     "text": [
      "<class 'pandas.core.frame.DataFrame'>\n",
      "Int64Index: 837 entries, 0 to 889\n",
      "Data columns (total 7 columns):\n",
      " #   Column      Non-Null Count  Dtype  \n",
      "---  ------      --------------  -----  \n",
      " 0   name        837 non-null    object \n",
      " 1   company     837 non-null    object \n",
      " 2   year        837 non-null    int32  \n",
      " 3   Price       837 non-null    float64\n",
      " 4   kms_driven  837 non-null    float64\n",
      " 5   fuel_type   837 non-null    object \n",
      " 6   car_name    837 non-null    object \n",
      "dtypes: float64(2), int32(1), object(4)\n",
      "memory usage: 81.3+ KB\n"
     ]
    }
   ],
   "source": [
    "car.info()"
   ]
  },
  {
   "cell_type": "code",
   "execution_count": 102,
   "id": "e163e148",
   "metadata": {},
   "outputs": [
    {
     "data": {
      "text/plain": [
       "Petrol    440\n",
       "Diesel    395\n",
       "LPG         2\n",
       "Name: fuel_type, dtype: int64"
      ]
     },
     "execution_count": 102,
     "metadata": {},
     "output_type": "execute_result"
    }
   ],
   "source": [
    "car['fuel_type'].value_counts()"
   ]
  },
  {
   "cell_type": "code",
   "execution_count": 103,
   "id": "bb4f1898",
   "metadata": {},
   "outputs": [
    {
     "data": {
      "text/plain": [
       "Maruti        229\n",
       "Hyundai       143\n",
       "Mahindra       99\n",
       "Tata           67\n",
       "Honda          60\n",
       "Toyota         38\n",
       "Chevrolet      34\n",
       "Renault        34\n",
       "Ford           31\n",
       "Volkswagen     20\n",
       "Skoda          13\n",
       "Audi           11\n",
       "Mini            8\n",
       "Datsun          8\n",
       "BMW             8\n",
       "Nissan          6\n",
       "Mercedes        6\n",
       "Mitsubishi      6\n",
       "Force           4\n",
       "Fiat            4\n",
       "Hindustan       3\n",
       "Jaguar          2\n",
       "Land            1\n",
       "Volvo           1\n",
       "Jeep            1\n",
       "Name: company, dtype: int64"
      ]
     },
     "execution_count": 103,
     "metadata": {},
     "output_type": "execute_result"
    }
   ],
   "source": [
    "car['company'].value_counts()"
   ]
  },
  {
   "cell_type": "code",
   "execution_count": 104,
   "id": "f2fcc5fe",
   "metadata": {},
   "outputs": [],
   "source": [
    "from sklearn.preprocessing import LabelEncoder \n",
    "le = LabelEncoder()"
   ]
  },
  {
   "cell_type": "code",
   "execution_count": 105,
   "id": "da92fdf1",
   "metadata": {},
   "outputs": [],
   "source": [
    "car['company'] = le.fit_transform(car['company'])\n",
    "car['fuel_type'] = le.fit_transform(car['fuel_type'])"
   ]
  },
  {
   "cell_type": "code",
   "execution_count": 106,
   "id": "37171d3e",
   "metadata": {},
   "outputs": [
    {
     "data": {
      "text/plain": [
       "Index(['name', 'company', 'year', 'Price', 'kms_driven', 'fuel_type',\n",
       "       'car_name'],\n",
       "      dtype='object')"
      ]
     },
     "execution_count": 106,
     "metadata": {},
     "output_type": "execute_result"
    }
   ],
   "source": [
    "car.columns"
   ]
  },
  {
   "cell_type": "code",
   "execution_count": 107,
   "id": "dadcb652",
   "metadata": {},
   "outputs": [],
   "source": [
    "X = car[[ 'company', 'year', 'kms_driven', 'fuel_type']]\n",
    "y = car[\"Price\"]"
   ]
  },
  {
   "cell_type": "code",
   "execution_count": 108,
   "id": "779425eb",
   "metadata": {},
   "outputs": [],
   "source": [
    "from sklearn.feature_selection import SelectKBest\n",
    "from sklearn.feature_selection import chi2"
   ]
  },
  {
   "cell_type": "code",
   "execution_count": 109,
   "id": "4a7fe146",
   "metadata": {},
   "outputs": [],
   "source": [
    "#Apply SelectKBest\n",
    "ordered_rank_features = SelectKBest(score_func=chi2,k=4)\n",
    "ordered_feature = ordered_rank_features.fit(X,y)"
   ]
  },
  {
   "cell_type": "code",
   "execution_count": 110,
   "id": "92f075e9",
   "metadata": {},
   "outputs": [],
   "source": [
    "feature_score = pd.DataFrame(ordered_feature.scores_,columns=['Feature_score'])"
   ]
  },
  {
   "cell_type": "code",
   "execution_count": 111,
   "id": "589948d2",
   "metadata": {},
   "outputs": [],
   "source": [
    "cols = pd.DataFrame(X.columns)\n",
    "feature_rank = pd.concat([cols,feature_score],axis=1)\n",
    "feature_rank.columns=['Features','Score']\n"
   ]
  },
  {
   "cell_type": "code",
   "execution_count": 112,
   "id": "d7ef003b",
   "metadata": {},
   "outputs": [
    {
     "data": {
      "text/html": [
       "<div>\n",
       "<style scoped>\n",
       "    .dataframe tbody tr th:only-of-type {\n",
       "        vertical-align: middle;\n",
       "    }\n",
       "\n",
       "    .dataframe tbody tr th {\n",
       "        vertical-align: top;\n",
       "    }\n",
       "\n",
       "    .dataframe thead th {\n",
       "        text-align: right;\n",
       "    }\n",
       "</style>\n",
       "<table border=\"1\" class=\"dataframe\">\n",
       "  <thead>\n",
       "    <tr style=\"text-align: right;\">\n",
       "      <th></th>\n",
       "      <th>Features</th>\n",
       "      <th>Score</th>\n",
       "    </tr>\n",
       "  </thead>\n",
       "  <tbody>\n",
       "    <tr>\n",
       "      <th>0</th>\n",
       "      <td>company</td>\n",
       "      <td>7.801869e+02</td>\n",
       "    </tr>\n",
       "    <tr>\n",
       "      <th>1</th>\n",
       "      <td>year</td>\n",
       "      <td>4.185198e+00</td>\n",
       "    </tr>\n",
       "    <tr>\n",
       "      <th>2</th>\n",
       "      <td>kms_driven</td>\n",
       "      <td>7.509751e+06</td>\n",
       "    </tr>\n",
       "    <tr>\n",
       "      <th>3</th>\n",
       "      <td>fuel_type</td>\n",
       "      <td>3.497653e+02</td>\n",
       "    </tr>\n",
       "  </tbody>\n",
       "</table>\n",
       "</div>"
      ],
      "text/plain": [
       "     Features         Score\n",
       "0     company  7.801869e+02\n",
       "1        year  4.185198e+00\n",
       "2  kms_driven  7.509751e+06\n",
       "3   fuel_type  3.497653e+02"
      ]
     },
     "execution_count": 112,
     "metadata": {},
     "output_type": "execute_result"
    }
   ],
   "source": [
    "feature_rank"
   ]
  },
  {
   "cell_type": "code",
   "execution_count": 113,
   "id": "6e2793a4",
   "metadata": {},
   "outputs": [],
   "source": [
    "from sklearn.ensemble import ExtraTreesClassifier"
   ]
  },
  {
   "cell_type": "code",
   "execution_count": 114,
   "id": "ba53c14b",
   "metadata": {},
   "outputs": [
    {
     "data": {
      "text/plain": [
       "ExtraTreesClassifier()"
      ]
     },
     "execution_count": 114,
     "metadata": {},
     "output_type": "execute_result"
    }
   ],
   "source": [
    "model = ExtraTreesClassifier()\n",
    "model.fit(X,y)"
   ]
  },
  {
   "cell_type": "code",
   "execution_count": 115,
   "id": "a0189c83",
   "metadata": {},
   "outputs": [
    {
     "name": "stdout",
     "output_type": "stream",
     "text": [
      "[0.2018714  0.21267684 0.57229924 0.01315252]\n"
     ]
    }
   ],
   "source": [
    "print(model.feature_importances_)"
   ]
  },
  {
   "cell_type": "code",
   "execution_count": 116,
   "id": "7795dfc4",
   "metadata": {},
   "outputs": [],
   "source": [
    "ranked_features = pd.Series(model.feature_importances_,index = X.columns)"
   ]
  },
  {
   "cell_type": "code",
   "execution_count": 117,
   "id": "551c6a74",
   "metadata": {},
   "outputs": [
    {
     "data": {
      "image/png": "[encoded data removed]",
      "text/plain": [
       "<Figure size 432x288 with 1 Axes>"
      ]
     },
     "metadata": {
      "needs_background": "light"
     },
     "output_type": "display_data"
    }
   ],
   "source": [
    "ranked_features.nlargest(10).plot(kind='barh')\n",
    "plt.show()"
   ]
  },
  {
   "cell_type": "markdown",
   "id": "7290d670",
   "metadata": {},
   "source": [
    "# Model Building"
   ]
  },
  {
   "cell_type": "code",
   "execution_count": 118,
   "id": "95807e39",
   "metadata": {},
   "outputs": [
    {
     "data": {
      "text/html": [
       "<div>\n",
       "<style scoped>\n",
       "    .dataframe tbody tr th:only-of-type {\n",
       "        vertical-align: middle;\n",
       "    }\n",
       "\n",
       "    .dataframe tbody tr th {\n",
       "        vertical-align: top;\n",
       "    }\n",
       "\n",
       "    .dataframe thead th {\n",
       "        text-align: right;\n",
       "    }\n",
       "</style>\n",
       "<table border=\"1\" class=\"dataframe\">\n",
       "  <thead>\n",
       "    <tr style=\"text-align: right;\">\n",
       "      <th></th>\n",
       "      <th>company</th>\n",
       "      <th>year</th>\n",
       "      <th>kms_driven</th>\n",
       "      <th>fuel_type</th>\n",
       "    </tr>\n",
       "  </thead>\n",
       "  <tbody>\n",
       "    <tr>\n",
       "      <th>0</th>\n",
       "      <td>9</td>\n",
       "      <td>2007</td>\n",
       "      <td>45000.0</td>\n",
       "      <td>2</td>\n",
       "    </tr>\n",
       "    <tr>\n",
       "      <th>1</th>\n",
       "      <td>13</td>\n",
       "      <td>2006</td>\n",
       "      <td>40.0</td>\n",
       "      <td>0</td>\n",
       "    </tr>\n",
       "    <tr>\n",
       "      <th>2</th>\n",
       "      <td>14</td>\n",
       "      <td>2018</td>\n",
       "      <td>22000.0</td>\n",
       "      <td>2</td>\n",
       "    </tr>\n",
       "    <tr>\n",
       "      <th>3</th>\n",
       "      <td>9</td>\n",
       "      <td>2014</td>\n",
       "      <td>28000.0</td>\n",
       "      <td>2</td>\n",
       "    </tr>\n",
       "    <tr>\n",
       "      <th>4</th>\n",
       "      <td>6</td>\n",
       "      <td>2014</td>\n",
       "      <td>36000.0</td>\n",
       "      <td>0</td>\n",
       "    </tr>\n",
       "    <tr>\n",
       "      <th>...</th>\n",
       "      <td>...</td>\n",
       "      <td>...</td>\n",
       "      <td>...</td>\n",
       "      <td>...</td>\n",
       "    </tr>\n",
       "    <tr>\n",
       "      <th>883</th>\n",
       "      <td>14</td>\n",
       "      <td>2011</td>\n",
       "      <td>50000.0</td>\n",
       "      <td>2</td>\n",
       "    </tr>\n",
       "    <tr>\n",
       "      <th>885</th>\n",
       "      <td>21</td>\n",
       "      <td>2009</td>\n",
       "      <td>30000.0</td>\n",
       "      <td>0</td>\n",
       "    </tr>\n",
       "    <tr>\n",
       "      <th>886</th>\n",
       "      <td>22</td>\n",
       "      <td>2009</td>\n",
       "      <td>132000.0</td>\n",
       "      <td>2</td>\n",
       "    </tr>\n",
       "    <tr>\n",
       "      <th>888</th>\n",
       "      <td>21</td>\n",
       "      <td>2018</td>\n",
       "      <td>27000.0</td>\n",
       "      <td>0</td>\n",
       "    </tr>\n",
       "    <tr>\n",
       "      <th>889</th>\n",
       "      <td>13</td>\n",
       "      <td>2013</td>\n",
       "      <td>40000.0</td>\n",
       "      <td>0</td>\n",
       "    </tr>\n",
       "  </tbody>\n",
       "</table>\n",
       "<p>837 rows × 4 columns</p>\n",
       "</div>"
      ],
      "text/plain": [
       "     company  year  kms_driven  fuel_type\n",
       "0          9  2007     45000.0          2\n",
       "1         13  2006        40.0          0\n",
       "2         14  2018     22000.0          2\n",
       "3          9  2014     28000.0          2\n",
       "4          6  2014     36000.0          0\n",
       "..       ...   ...         ...        ...\n",
       "883       14  2011     50000.0          2\n",
       "885       21  2009     30000.0          0\n",
       "886       22  2009    132000.0          2\n",
       "888       21  2018     27000.0          0\n",
       "889       13  2013     40000.0          0\n",
       "\n",
       "[837 rows x 4 columns]"
      ]
     },
     "execution_count": 118,
     "metadata": {},
     "output_type": "execute_result"
    }
   ],
   "source": [
    "X"
   ]
  },
  {
   "cell_type": "code",
   "execution_count": 119,
   "id": "627ca881",
   "metadata": {},
   "outputs": [
    {
     "data": {
      "text/plain": [
       "0       80000.0\n",
       "1      425000.0\n",
       "2           0.0\n",
       "3      325000.0\n",
       "4      575000.0\n",
       "         ...   \n",
       "883    270000.0\n",
       "885    110000.0\n",
       "886    300000.0\n",
       "888    260000.0\n",
       "889    390000.0\n",
       "Name: Price, Length: 837, dtype: float64"
      ]
     },
     "execution_count": 119,
     "metadata": {},
     "output_type": "execute_result"
    }
   ],
   "source": [
    "y"
   ]
  },
  {
   "cell_type": "code",
   "execution_count": 120,
   "id": "e94a7ee5",
   "metadata": {},
   "outputs": [],
   "source": [
    "from sklearn.model_selection import train_test_split\n",
    "X_train,X_test,y_train,y_test = train_test_split(X,y,test_size=0.25,random_state =42)\n"
   ]
  },
  {
   "cell_type": "code",
   "execution_count": 121,
   "id": "c0c53042",
   "metadata": {},
   "outputs": [
    {
     "name": "stdout",
     "output_type": "stream",
     "text": [
      "(627, 4)\n",
      "(210, 4)\n",
      "(627,)\n",
      "(210,)\n"
     ]
    }
   ],
   "source": [
    "print(X_train.shape)\n",
    "print(X_test.shape)\n",
    "print(y_train.shape)\n",
    "print(y_test.shape)"
   ]
  },
  {
   "cell_type": "code",
   "execution_count": 141,
   "id": "9967a0e6",
   "metadata": {},
   "outputs": [],
   "source": [
    "from sklearn.preprocessing import StandardScaler \n",
    "scaler = StandardScaler()"
   ]
  },
  {
   "cell_type": "code",
   "execution_count": 149,
   "id": "dc0ab72c",
   "metadata": {},
   "outputs": [],
   "source": [
    "X_train_transform = scaler.fit_transform(X_train)\n",
    "X_test_transform = scaler.transform(X_test)"
   ]
  },
  {
   "cell_type": "code",
   "execution_count": 150,
   "id": "c9b48f3c",
   "metadata": {},
   "outputs": [],
   "source": [
    "from sklearn.linear_model import LinearRegression\n",
    "model = LinearRegression()\n"
   ]
  },
  {
   "cell_type": "code",
   "execution_count": null,
   "id": "c3a0ee6f",
   "metadata": {},
   "outputs": [],
   "source": []
  },
  {
   "cell_type": "code",
   "execution_count": 151,
   "id": "bc9b30a9",
   "metadata": {},
   "outputs": [
    {
     "data": {
      "text/plain": [
       "LinearRegression()"
      ]
     },
     "execution_count": 151,
     "metadata": {},
     "output_type": "execute_result"
    }
   ],
   "source": [
    "model"
   ]
  },
  {
   "cell_type": "code",
   "execution_count": 152,
   "id": "076ef0c7",
   "metadata": {},
   "outputs": [
    {
     "data": {
      "text/plain": [
       "LinearRegression()"
      ]
     },
     "execution_count": 152,
     "metadata": {},
     "output_type": "execute_result"
    }
   ],
   "source": [
    "model.fit(X_train_transform,y_train)"
   ]
  },
  {
   "cell_type": "code",
   "execution_count": 153,
   "id": "777e5c80",
   "metadata": {},
   "outputs": [],
   "source": [
    "predictions = model.predict(X_test_transform)"
   ]
  },
  {
   "cell_type": "code",
   "execution_count": 154,
   "id": "00425c89",
   "metadata": {},
   "outputs": [
    {
     "data": {
      "text/plain": [
       "210"
      ]
     },
     "execution_count": 154,
     "metadata": {},
     "output_type": "execute_result"
    }
   ],
   "source": [
    "len(predictions)"
   ]
  },
  {
   "cell_type": "code",
   "execution_count": 155,
   "id": "ea5bc8ee",
   "metadata": {},
   "outputs": [],
   "source": [
    "result = pd.DataFrame({'Actual': y_test,'Predicted':predictions})"
   ]
  },
  {
   "cell_type": "code",
   "execution_count": 131,
   "id": "f6fe0359",
   "metadata": {},
   "outputs": [
    {
     "data": {
      "text/html": [
       "<div>\n",
       "<style scoped>\n",
       "    .dataframe tbody tr th:only-of-type {\n",
       "        vertical-align: middle;\n",
       "    }\n",
       "\n",
       "    .dataframe tbody tr th {\n",
       "        vertical-align: top;\n",
       "    }\n",
       "\n",
       "    .dataframe thead th {\n",
       "        text-align: right;\n",
       "    }\n",
       "</style>\n",
       "<table border=\"1\" class=\"dataframe\">\n",
       "  <thead>\n",
       "    <tr style=\"text-align: right;\">\n",
       "      <th></th>\n",
       "      <th>Actual</th>\n",
       "      <th>Predicted</th>\n",
       "    </tr>\n",
       "  </thead>\n",
       "  <tbody>\n",
       "    <tr>\n",
       "      <th>215</th>\n",
       "      <td>390000.0</td>\n",
       "      <td>701340.199685</td>\n",
       "    </tr>\n",
       "    <tr>\n",
       "      <th>874</th>\n",
       "      <td>510000.0</td>\n",
       "      <td>487325.630149</td>\n",
       "    </tr>\n",
       "    <tr>\n",
       "      <th>79</th>\n",
       "      <td>1891111.0</td>\n",
       "      <td>320711.360083</td>\n",
       "    </tr>\n",
       "    <tr>\n",
       "      <th>67</th>\n",
       "      <td>182000.0</td>\n",
       "      <td>176157.414895</td>\n",
       "    </tr>\n",
       "    <tr>\n",
       "      <th>423</th>\n",
       "      <td>610000.0</td>\n",
       "      <td>577915.260234</td>\n",
       "    </tr>\n",
       "    <tr>\n",
       "      <th>...</th>\n",
       "      <td>...</td>\n",
       "      <td>...</td>\n",
       "    </tr>\n",
       "    <tr>\n",
       "      <th>322</th>\n",
       "      <td>444999.0</td>\n",
       "      <td>553565.335573</td>\n",
       "    </tr>\n",
       "    <tr>\n",
       "      <th>260</th>\n",
       "      <td>195000.0</td>\n",
       "      <td>571949.511211</td>\n",
       "    </tr>\n",
       "    <tr>\n",
       "      <th>485</th>\n",
       "      <td>650000.0</td>\n",
       "      <td>654617.580909</td>\n",
       "    </tr>\n",
       "    <tr>\n",
       "      <th>785</th>\n",
       "      <td>380000.0</td>\n",
       "      <td>264295.668447</td>\n",
       "    </tr>\n",
       "    <tr>\n",
       "      <th>92</th>\n",
       "      <td>415000.0</td>\n",
       "      <td>362735.666138</td>\n",
       "    </tr>\n",
       "  </tbody>\n",
       "</table>\n",
       "<p>210 rows × 2 columns</p>\n",
       "</div>"
      ],
      "text/plain": [
       "        Actual      Predicted\n",
       "215   390000.0  701340.199685\n",
       "874   510000.0  487325.630149\n",
       "79   1891111.0  320711.360083\n",
       "67    182000.0  176157.414895\n",
       "423   610000.0  577915.260234\n",
       "..         ...            ...\n",
       "322   444999.0  553565.335573\n",
       "260   195000.0  571949.511211\n",
       "485   650000.0  654617.580909\n",
       "785   380000.0  264295.668447\n",
       "92    415000.0  362735.666138\n",
       "\n",
       "[210 rows x 2 columns]"
      ]
     },
     "execution_count": 131,
     "metadata": {},
     "output_type": "execute_result"
    }
   ],
   "source": [
    "result"
   ]
  },
  {
   "cell_type": "code",
   "execution_count": 159,
   "id": "0f5d0fdd",
   "metadata": {},
   "outputs": [
    {
     "data": {
      "image/png": "[encoded data removed]",
      "text/plain": [
       "<Figure size 576x432 with 1 Axes>"
      ]
     },
     "metadata": {
      "needs_background": "light"
     },
     "output_type": "display_data"
    }
   ],
   "source": [
    "plt.figure(figsize=(8, 6))\n",
    "plt.plot(y_test, label='Actual', marker='o')\n",
    "plt.plot(predictions, label='Predicted', marker='x')\n",
    "plt.xlabel('Index')\n",
    "plt.ylabel('Value')\n",
    "plt.title('Actual vs. Predicted')\n",
    "plt.legend()\n",
    "plt.grid(True)\n",
    "plt.show()"
   ]
  },
  {
   "cell_type": "code",
   "execution_count": 162,
   "id": "d9610dd4",
   "metadata": {},
   "outputs": [
    {
     "data": {
      "text/html": [
       "<div>\n",
       "<style scoped>\n",
       "    .dataframe tbody tr th:only-of-type {\n",
       "        vertical-align: middle;\n",
       "    }\n",
       "\n",
       "    .dataframe tbody tr th {\n",
       "        vertical-align: top;\n",
       "    }\n",
       "\n",
       "    .dataframe thead th {\n",
       "        text-align: right;\n",
       "    }\n",
       "</style>\n",
       "<table border=\"1\" class=\"dataframe\">\n",
       "  <thead>\n",
       "    <tr style=\"text-align: right;\">\n",
       "      <th></th>\n",
       "      <th>name</th>\n",
       "      <th>company</th>\n",
       "      <th>year</th>\n",
       "      <th>Price</th>\n",
       "      <th>kms_driven</th>\n",
       "      <th>fuel_type</th>\n",
       "      <th>car_name</th>\n",
       "    </tr>\n",
       "  </thead>\n",
       "  <tbody>\n",
       "    <tr>\n",
       "      <th>759</th>\n",
       "      <td>Hyundai Verna 1.6 CRDI SX Plus AT</td>\n",
       "      <td>9</td>\n",
       "      <td>2012</td>\n",
       "      <td>600000.0</td>\n",
       "      <td>29000.0</td>\n",
       "      <td>0</td>\n",
       "      <td>Verna 1.6 CRDI SX Plus AT</td>\n",
       "    </tr>\n",
       "    <tr>\n",
       "      <th>771</th>\n",
       "      <td>Hyundai Santro</td>\n",
       "      <td>9</td>\n",
       "      <td>2002</td>\n",
       "      <td>60000.0</td>\n",
       "      <td>47000.0</td>\n",
       "      <td>2</td>\n",
       "      <td>Santro</td>\n",
       "    </tr>\n",
       "    <tr>\n",
       "      <th>684</th>\n",
       "      <td>Maruti Suzuki Swift Dzire VXi 1.2 BS IV</td>\n",
       "      <td>14</td>\n",
       "      <td>2009</td>\n",
       "      <td>210000.0</td>\n",
       "      <td>59000.0</td>\n",
       "      <td>2</td>\n",
       "      <td>Suzuki Swift Dzire VXi 1.2 BS IV</td>\n",
       "    </tr>\n",
       "  </tbody>\n",
       "</table>\n",
       "</div>"
      ],
      "text/plain": [
       "                                        name  company  year     Price  \\\n",
       "759        Hyundai Verna 1.6 CRDI SX Plus AT        9  2012  600000.0   \n",
       "771                           Hyundai Santro        9  2002   60000.0   \n",
       "684  Maruti Suzuki Swift Dzire VXi 1.2 BS IV       14  2009  210000.0   \n",
       "\n",
       "     kms_driven  fuel_type                          car_name  \n",
       "759     29000.0          0         Verna 1.6 CRDI SX Plus AT  \n",
       "771     47000.0          2                            Santro  \n",
       "684     59000.0          2  Suzuki Swift Dzire VXi 1.2 BS IV  "
      ]
     },
     "execution_count": 162,
     "metadata": {},
     "output_type": "execute_result"
    }
   ],
   "source": [
    "car.sample(3)"
   ]
  },
  {
   "cell_type": "code",
   "execution_count": 163,
   "id": "2cbf6008",
   "metadata": {},
   "outputs": [],
   "source": [
    "p =[[9,2002,47000.0,2]]\n"
   ]
  },
  {
   "cell_type": "code",
   "execution_count": 164,
   "id": "b302d71b",
   "metadata": {},
   "outputs": [
    {
     "name": "stdout",
     "output_type": "stream",
     "text": [
      "[-1.7230588e+09]\n"
     ]
    }
   ],
   "source": [
    "print(model.predict(p))"
   ]
  },
  {
   "cell_type": "markdown",
   "id": "208ab0ef",
   "metadata": {},
   "source": [
    "# Evaluation of the model"
   ]
  },
  {
   "cell_type": "code",
   "execution_count": 156,
   "id": "b99ada31",
   "metadata": {},
   "outputs": [],
   "source": [
    "from sklearn.metrics import mean_absolute_error,mean_squared_error"
   ]
  },
  {
   "cell_type": "code",
   "execution_count": 157,
   "id": "911e436e",
   "metadata": {},
   "outputs": [],
   "source": [
    "mse = mean_squared_error(y_test,predictions)\n",
    "mae = mean_absolute_error(y_test,predictions)\n",
    "rmse = np.sqrt(np.mean((y_test - predictions) ** 2))"
   ]
  },
  {
   "cell_type": "code",
   "execution_count": 158,
   "id": "e736f3b3",
   "metadata": {},
   "outputs": [
    {
     "name": "stdout",
     "output_type": "stream",
     "text": [
      "Mean Squared Error : 196609859714.28583\n",
      "Mean Absolute Error : 237696.26152183732\n",
      "RMSE :  443407.10381576634\n"
     ]
    }
   ],
   "source": [
    "print('Mean Squared Error :',mse)\n",
    "print('Mean Absolute Error :',mae)\n",
    "print('RMSE : ',rmse)"
   ]
  },
  {
   "cell_type": "code",
   "execution_count": null,
   "id": "b68f9006",
   "metadata": {},
   "outputs": [],
   "source": []
  }
 ],
 "metadata": {
  "kernelspec": {
   "display_name": "Python 3",
   "language": "python",
   "name": "python3"
  },
  "language_info": {
   "codemirror_mode": {
    "name": "ipython",
    "version": 3
   },
   "file_extension": ".py",
   "mimetype": "text/x-python",
   "name": "python",
   "nbconvert_exporter": "python",
   "pygments_lexer": "ipython3",
   "version": "3.8.8"
  }
 },
 "nbformat": 4,
 "nbformat_minor": 5
}
